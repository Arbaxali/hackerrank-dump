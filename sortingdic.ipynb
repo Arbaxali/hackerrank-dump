{
  "metadata": {
    "language_info": {
      "codemirror_mode": {
        "name": "python",
        "version": 3
      },
      "file_extension": ".py",
      "mimetype": "text/x-python",
      "name": "python",
      "nbconvert_exporter": "python",
      "pygments_lexer": "ipython3",
      "version": "3.8"
    },
    "kernelspec": {
      "name": "python",
      "display_name": "Python (Pyodide)",
      "language": "python"
    }
  },
  "nbformat_minor": 4,
  "nbformat": 4,
  "cells": [
    {
      "cell_type": "code",
      "source": "print(\"hello\")",
      "metadata": {
        "trusted": true
      },
      "execution_count": 1,
      "outputs": [
        {
          "name": "stdout",
          "text": "hello\n",
          "output_type": "stream"
        }
      ]
    },
    {
      "cell_type": "code",
      "source": "dic = {'Manufacturing': 1, 'and': 4, 'mining': 2, 'output': 1, 'contracted': 2, 'year-on-year': 1, 'in': 6, 'the': 6, 'July-September': 1, 'quarter,': 2, 'dragging': 1, 'Gross': 2, 'Value': 1, 'Added': 1, 'growth': 4, 'to': 5, 'a': 4, 'slower-than-expected': 1, '5.6%,': 1, 'which': 1, 'together': 1, 'with': 3, 'high': 1, 'inflation': 1, 'weak': 1, 'exports': 1, 'combined': 1, 'slow': 1, 'overall': 1, 'Domestic': 1, 'Product': 1, '(GDP)': 1, '6.3%': 1, 'pace,': 1, 'as': 1, 'per': 1, 'estimates': 1, 'released': 1, 'by': 1, 'National': 1, 'Statistical': 1, 'Office.': 1, 'At': 1, 'little': 1, 'over': 1, 'â‚¹75': 1, 'lakh': 1, 'crore,': 1, 'Indiaâ€™s': 1, 'GDP': 2, 'first': 1, 'half': 1, 'of': 3, '2022-23': 1, 'was': 1, '5.7%': 1, 'larger': 1, 'than': 1, 'comparable': 1, 'pre-COVID': 1, 'level.': 1, 'The': 1, 'April': 1, 'June': 1, 'quarter': 1, 'this': 1, 'fiscal': 1, 'had': 1, 'witnessed': 1, '13.5%,': 1, 'GVA': 3, 'expanding': 1, '12.7%.': 1, 'While': 1, 'agriculture': 1, 'quickened': 1, '4.6%': 1, 'second': 1, 'from': 1, '4.5%': 1, 'preceding': 1, 'three': 1, 'months,': 1, 'manufacturing': 1, '4.3%': 1, '2.8%,': 1, 'respectively,': 1, 'Q2': 1, 'compared': 1, 'year': 1, 'earlier.': 1}\n\nsorted_dic = {k:v for k,v in sorted(dic.items())}\nsorted_valu = {k:v for k,v in sorted(dic.items(), key = lambda v:v[1])} \nprint(sorted_valu)",
      "metadata": {
        "trusted": true
      },
      "execution_count": 4,
      "outputs": [
        {
          "name": "stdout",
          "text": "{'Manufacturing': 1, 'output': 1, 'year-on-year': 1, 'July-September': 1, 'dragging': 1, 'Value': 1, 'Added': 1, 'slower-than-expected': 1, '5.6%,': 1, 'which': 1, 'together': 1, 'high': 1, 'inflation': 1, 'weak': 1, 'exports': 1, 'combined': 1, 'slow': 1, 'overall': 1, 'Domestic': 1, 'Product': 1, '(GDP)': 1, '6.3%': 1, 'pace,': 1, 'as': 1, 'per': 1, 'estimates': 1, 'released': 1, 'by': 1, 'National': 1, 'Statistical': 1, 'Office.': 1, 'At': 1, 'little': 1, 'over': 1, 'â‚¹75': 1, 'lakh': 1, 'crore,': 1, 'Indiaâ€™s': 1, 'first': 1, 'half': 1, '2022-23': 1, 'was': 1, '5.7%': 1, 'larger': 1, 'than': 1, 'comparable': 1, 'pre-COVID': 1, 'level.': 1, 'The': 1, 'April': 1, 'June': 1, 'quarter': 1, 'this': 1, 'fiscal': 1, 'had': 1, 'witnessed': 1, '13.5%,': 1, 'expanding': 1, '12.7%.': 1, 'While': 1, 'agriculture': 1, 'quickened': 1, '4.6%': 1, 'second': 1, 'from': 1, '4.5%': 1, 'preceding': 1, 'three': 1, 'months,': 1, 'manufacturing': 1, '4.3%': 1, '2.8%,': 1, 'respectively,': 1, 'Q2': 1, 'compared': 1, 'year': 1, 'earlier.': 1, 'mining': 2, 'contracted': 2, 'quarter,': 2, 'Gross': 2, 'GDP': 2, 'with': 3, 'of': 3, 'GVA': 3, 'and': 4, 'growth': 4, 'a': 4, 'to': 5, 'in': 6, 'the': 6}\n",
          "output_type": "stream"
        }
      ]
    },
    {
      "cell_type": "code",
      "source": "",
      "metadata": {},
      "execution_count": null,
      "outputs": []
    }
  ]
}